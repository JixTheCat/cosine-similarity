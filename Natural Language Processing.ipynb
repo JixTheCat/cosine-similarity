{
 "cells": [
  {
   "cell_type": "markdown",
   "id": "ff009ece",
   "metadata": {},
   "source": [
    "# Simple algorithms\n",
    "\n",
    "Many algorithms used can help determine whether a word is similar to another, which is used in applications such as spell checking. The first algorithm we can look at is Cosine Similarity. It is a simple function that determines the similarity of one string of letters to another and is computed by:\n",
    "\n",
    "$$\\frac{\\sum_{i=1}^{n}A_i B_i}{\\sqrt{\\sum_{i=1}^{n}A_i^2}\\sqrt{\\sum_{i=1}^{n}B_i^2}}$$\n",
    "\n",
    "This return a percentage of how similar the two vectors, or in this case, words are:"
   ]
  },
  {
   "cell_type": "code",
   "execution_count": 52,
   "id": "e9022316",
   "metadata": {},
   "outputs": [],
   "source": [
    "from math import sqrt\n",
    "\n",
    "def letters_to_numbers(letters):\n",
    "    \"\"\"Convert a string of letters to numbers (Not case sensitive).\"\"\"\n",
    "    numbers = []\n",
    "    for letter in letters.lower():\n",
    "        numbers.append(ord(letter))\n",
    "    return numbers\n",
    "\n",
    "def cosine_similarity(a, b):\n",
    "    \"\"\"Returns the cosine similarity of two vectors a and b.\"\"\"\n",
    "    a = letters_to_numbers(a)\n",
    "    b = letters_to_numbers(b)\n",
    "    a2 = [x**2 for x in a]\n",
    "    b2 = [x**2 for x in b]\n",
    "\n",
    "    ab =  [x * y for (x, y) in zip(a,b)]\n",
    "\n",
    "    return sum(ab)/sqrt(sum(a2)*sum(b2))"
   ]
  },
  {
   "cell_type": "markdown",
   "id": "f5cdb45a",
   "metadata": {},
   "source": [
    "We can see an example of this using the two phrases: \"HallO Worlds\" and \"hello world\":"
   ]
  },
  {
   "cell_type": "code",
   "execution_count": 53,
   "id": "f94ed8b9",
   "metadata": {},
   "outputs": [
    {
     "data": {
      "text/plain": [
       "0.9482289714614682"
      ]
     },
     "execution_count": 53,
     "metadata": {},
     "output_type": "execute_result"
    }
   ],
   "source": [
    "cosine_similarity(\"HallO Worlds\", \"hello world\")"
   ]
  },
  {
   "cell_type": "markdown",
   "id": "70e459c9",
   "metadata": {},
   "source": [
    "This shows that they are approximately 94.8% similar.\n",
    "\n",
    "This type of technique is used to search for likely spelling mistakes and their best solutions, and even to compare articles to see how similar they are. The algorithm can be altered to include words instead of letters for larger readings."
   ]
  },
  {
   "cell_type": "code",
   "execution_count": null,
   "id": "9eb28c74",
   "metadata": {},
   "outputs": [],
   "source": [
    "words_to_numbers"
   ]
  },
  {
   "cell_type": "code",
   "execution_count": null,
   "id": "91f72c0f",
   "metadata": {},
   "outputs": [],
   "source": []
  },
  {
   "cell_type": "code",
   "execution_count": null,
   "id": "3d39e80f",
   "metadata": {},
   "outputs": [],
   "source": []
  },
  {
   "cell_type": "code",
   "execution_count": null,
   "id": "aad36b6a",
   "metadata": {},
   "outputs": [],
   "source": []
  },
  {
   "cell_type": "code",
   "execution_count": null,
   "id": "370dde96",
   "metadata": {},
   "outputs": [],
   "source": []
  },
  {
   "cell_type": "code",
   "execution_count": null,
   "id": "38ac9c4f",
   "metadata": {},
   "outputs": [],
   "source": []
  }
 ],
 "metadata": {
  "kernelspec": {
   "display_name": "Python 3 (ipykernel)",
   "language": "python",
   "name": "python3"
  },
  "language_info": {
   "codemirror_mode": {
    "name": "ipython",
    "version": 3
   },
   "file_extension": ".py",
   "mimetype": "text/x-python",
   "name": "python",
   "nbconvert_exporter": "python",
   "pygments_lexer": "ipython3",
   "version": "3.10.4"
  }
 },
 "nbformat": 4,
 "nbformat_minor": 5
}
